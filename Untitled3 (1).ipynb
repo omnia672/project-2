{
  "nbformat": 4,
  "nbformat_minor": 0,
  "metadata": {
    "colab": {
      "provenance": []
    },
    "kernelspec": {
      "name": "python3",
      "display_name": "Python 3"
    },
    "language_info": {
      "name": "python"
    }
  },
  "cells": [
    {
      "cell_type": "code",
      "execution_count": 1,
      "metadata": {
        "colab": {
          "base_uri": "https://localhost:8080/"
        },
        "id": "druovjdD9GA0",
        "outputId": "d2d94a79-07a5-4afd-93b2-fa9b0ee0f512"
      },
      "outputs": [
        {
          "output_type": "stream",
          "name": "stdout",
          "text": [
            "Next Hidden State:\n",
            " [[-0.04710903]]\n",
            "Next Cell State:\n",
            " [[-0.08399454]]\n",
            "Predicted Output:\n",
            " [[0.44346917]]\n"
          ]
        }
      ],
      "source": [
        "import numpy as np\n",
        "\n",
        "class LSTM:\n",
        "    def __init__(self, input_dim, hidden_dim):\n",
        "        self.input_dim = input_dim\n",
        "        self.hidden_dim = hidden_dim\n",
        "\n",
        "        # تصحيح الأوزان بحيث تتناسب مع عدد المدخلات والحالة المخفية\n",
        "        self.Wf = np.array([[0.5, 0.1]])  # من (1,3) إلى (1,2)\n",
        "        self.Wi = np.array([[0.2, -0.1]])  # من (1,3) إلى (1,2)\n",
        "        self.Wo = np.array([[0.3, 0.2]])  # من (1,3) إلى (1,2)\n",
        "        self.Wc = np.array([[0.1, -0.2]])  # من (1,3) إلى (1,2)\n",
        "\n",
        "        # تهيئة التحيزات بالقيم المعطاة\n",
        "        self.bf = np.array([[0.1]])\n",
        "        self.bi = np.array([[-0.2]])\n",
        "        self.bo = np.array([[0.05]])\n",
        "        self.bc = np.array([[0.0]])\n",
        "\n",
        "    def forward(self, x, h_prev, c_prev):\n",
        "        # دمج المدخلات مع الحالة المخفية السابقة\n",
        "        combined = np.vstack((h_prev, x))\n",
        "\n",
        "        # حساب بوابة النسيان\n",
        "        ft = self.sigmoid(np.dot(self.Wf, combined) + self.bf)\n",
        "\n",
        "        # حساب بوابة الإدخال\n",
        "        it = self.sigmoid(np.dot(self.Wi, combined) + self.bi)\n",
        "\n",
        "        # حساب حالة الذاكرة المرشحة\n",
        "        c_tilde = np.tanh(np.dot(self.Wc, combined) + self.bc)\n",
        "\n",
        "        # تحديث حالة الخلية\n",
        "        ct = ft * c_prev + it * c_tilde\n",
        "\n",
        "        # حساب بوابة الإخراج\n",
        "        ot = self.sigmoid(np.dot(self.Wo, combined) + self.bo)\n",
        "\n",
        "        # تحديث الحالة المخفية\n",
        "        ht = ot * np.tanh(ct)\n",
        "\n",
        "        return ht, ct\n",
        "\n",
        "    def sigmoid(self, x):\n",
        "        return 1 / (1 + np.exp(-x))\n",
        "\n",
        "# تجربة النموذج بناءً على القيم المعطاة\n",
        "input_dim = 1\n",
        "hidden_dim = 1\n",
        "lstm = LSTM(input_dim, hidden_dim)\n",
        "\n",
        "# القيم الأولية بناءً على المثال\n",
        "x_t = np.array([[1.0]])  # المدخل الحالي\n",
        "h_prev = np.array([[0.0]])  # الحالة المخفية السابقة\n",
        "c_prev = np.array([[0.0]])  # حالة الخلية السابقة\n",
        "\n",
        "# تنفيذ التمرير الأمامي\n",
        "h_next, c_next = lstm.forward(x_t, h_prev, c_prev)\n",
        "\n",
        "# التحويل الخطي لحساب التنبؤ النهائي\n",
        "Wy = np.array([[1.2]])\n",
        "by = np.array([[0.5]])\n",
        "\n",
        "y_pred = np.dot(Wy, h_next) + by\n",
        "\n",
        "print(\"Next Hidden State:\\n\", h_next)\n",
        "print(\"Next Cell State:\\n\", c_next)\n",
        "print(\"Predicted Output:\\n\", y_pred)\n",
        "\n"
      ]
    },
    {
      "cell_type": "code",
      "source": [
        "import math\n",
        "\n",
        "# Activation functions\n",
        "def sigmoid(x):\n",
        "    return 1 / (1 + math.exp(-x))\n",
        "\n",
        "def tanh(x):\n",
        "    return math.tanh(x)\n",
        "\n",
        "\n",
        "Wf, Whf, bf = 0.5, 0.1, 0  # Forget gate\n",
        "Wi, Whi, bi = 0.6, 0.2, 0  # Input gate\n",
        "Wc, Whc, bc = 0.7, 0.3, 0  # Candidate gate\n",
        "Wo, Who, bo = 0.8, 0.4, 0  # Output gate\n",
        "Wy, by = 4, 0  # Output layer\n",
        "\n",
        "s\n",
        "h = 0  # Initial hidden state\n",
        "C = 0  # Initial cell state\n",
        "\n",
        "X = [1, 2, 3]  # Input sequence\n",
        "\n",
        "\n",
        "for t, x in enumerate(X):\n",
        "    print(f\"Time step {t+1}: Input = {x}\")\n",
        "\n",
        "    # Forget gate\n",
        "    ft = sigmoid(Wf * x + Whf * h + bf)\n",
        "\n",
        "    # Input gate\n",
        "    it = sigmoid(Wi * x + Whi * h + bi)\n",
        "\n",
        "    # Candidate memory\n",
        "    Ct_tilde = tanh(Wc * x + Whc * h + bc)\n",
        "    C = ft * C + it * Ct_tilde\n",
        "\n",
        "    # Output gate\n",
        "    ot = sigmoid(Wo * x + Who * h + bo)\n",
        "\n",
        "    # Hidden state update\n",
        "    h = ot * tanh(C)\n",
        "\n",
        "\n",
        "    print(f\"  Forget gate: f_t = {ft:.4f}\")\n",
        "    print(f\"  Input gate: i_t = {it:.4f}\")\n",
        "    print(f\"  Candidate memory: Ct_tilde = {Ct_tilde:.4f}\")\n",
        "    print(f\"  Cell state: C_t = {C:.4f}\")\n",
        "    print(f\"  Output gate: o_t = {ot:.4f}\")\n",
        "    print(f\"  Hidden state: h_t = {h:.4f}\\n\")\n",
        "\n",
        "# Final output\n",
        "y = Wy * h + by\n",
        "print(f\"Final output y: {y:.4f}\")"
      ],
      "metadata": {
        "colab": {
          "base_uri": "https://localhost:8080/"
        },
        "id": "uUhjM2pyNTDc",
        "outputId": "2de0461a-32ec-4bed-f09d-40b65543efc5"
      },
      "execution_count": 2,
      "outputs": [
        {
          "output_type": "stream",
          "name": "stdout",
          "text": [
            "Time step 1: Input = 1\n",
            "  Forget gate: f_t = 0.6225\n",
            "  Input gate: i_t = 0.6457\n",
            "  Candidate memory: Ct_tilde = 0.6044\n",
            "  Cell state: C_t = 0.3902\n",
            "  Output gate: o_t = 0.6900\n",
            "  Hidden state: h_t = 0.2564\n",
            "\n",
            "Time step 2: Input = 2\n",
            "  Forget gate: f_t = 0.7361\n",
            "  Input gate: i_t = 0.7775\n",
            "  Candidate memory: Ct_tilde = 0.9009\n",
            "  Cell state: C_t = 0.9877\n",
            "  Output gate: o_t = 0.8459\n",
            "  Hidden state: h_t = 0.6398\n",
            "\n",
            "Time step 3: Input = 3\n",
            "  Forget gate: f_t = 0.8269\n",
            "  Input gate: i_t = 0.8730\n",
            "  Candidate memory: Ct_tilde = 0.9798\n",
            "  Cell state: C_t = 1.6721\n",
            "  Output gate: o_t = 0.9344\n",
            "  Hidden state: h_t = 0.8707\n",
            "\n",
            "Final output y: 3.4827\n"
          ]
        }
      ]
    },
    {
      "cell_type": "code",
      "source": [
        "print(f\"Next Hidden State:\\n{h_next.round(4)}\")\n",
        "print(f\"Next Cell State:\\n{c_next.round(4)}\")\n",
        "print(f\"Predicted Output:\\n{y_pred.round(4)}\")\n"
      ],
      "metadata": {
        "colab": {
          "base_uri": "https://localhost:8080/"
        },
        "id": "V3zkzUNg_RPp",
        "outputId": "3b1a095f-0119-42c0-d139-d9066fd5a5fd"
      },
      "execution_count": null,
      "outputs": [
        {
          "output_type": "stream",
          "name": "stdout",
          "text": [
            "Next Hidden State:\n",
            "[[-0.0471]]\n",
            "Next Cell State:\n",
            "[[-0.084]]\n",
            "Predicted Output:\n",
            "[[0.4435]]\n"
          ]
        }
      ]
    },
    {
      "cell_type": "code",
      "source": [
        "def forward(self, x, h_prev, c_prev):\n",
        "    combined = np.vstack((h_prev, x))\n",
        "\n",
        "    ft = self.sigmoid(np.dot(self.Wf, combined) + self.bf)\n",
        "    it = self.sigmoid(np.dot(self.Wi, combined) + self.bi)\n",
        "    c_tilde = np.tanh(np.dot(self.Wc, combined) + self.bc)\n",
        "    ct = ft * c_prev + it * c_tilde\n",
        "    ot = self.sigmoid(np.dot(self.Wo, combined) + self.bo)\n",
        "    ht = ot * np.tanh(ct)\n",
        "\n",
        "    print(f\"Forget Gate (ft):\\n{ft.round(4)}\")\n",
        "    print(f\"Input Gate (it):\\n{it.round(4)}\")\n",
        "    print(f\"Candidate Cell State (c~t):\\n{c_tilde.round(4)}\")\n",
        "    print(f\"Cell State (ct):\\n{ct.round(4)}\")\n",
        "    print(f\"Output Gate (ot):\\n{ot.round(4)}\")\n",
        "    print(f\"Hidden State (ht):\\n{ht.round(4)}\\n\")\n",
        "\n",
        "    return ht, ct\n",
        "\n"
      ],
      "metadata": {
        "id": "rQVKMyvk_Xos"
      },
      "execution_count": null,
      "outputs": []
    },
    {
      "cell_type": "code",
      "source": [
        "import numpy as np\n",
        "\n",
        "class LSTM:\n",
        "    def __init__(self, input_dim, hidden_dim):\n",
        "        self.input_dim = input_dim\n",
        "        self.hidden_dim = hidden_dim\n",
        "\n",
        "\n",
        "        self.Wf = np.array([[0.5, 0.1]])\n",
        "        self.Wi = np.array([[0.2, -0.1]])\n",
        "        self.Wo = np.array([[0.3, 0.2]])\n",
        "        self.Wc = np.array([[0.1, -0.2]])\n",
        "\n",
        "\n",
        "        self.bf = np.array([[0.1]])\n",
        "        self.bi = np.array([[-0.2]])\n",
        "        self.bo = np.array([[0.05]])\n",
        "        self.bc = np.array([[0.0]])\n",
        "\n",
        "    def forward(self, x, h_prev, c_prev):\n",
        "\n",
        "        combined = np.vstack((h_prev, x))\n",
        "\n",
        "\n",
        "        ft = self.sigmoid(np.dot(self.Wf, combined) + self.bf)\n",
        "\n",
        "\n",
        "        it = self.sigmoid(np.dot(self.Wi, combined) + self.bi)\n",
        "\n",
        "\n",
        "        c_tilde = np.tanh(np.dot(self.Wc, combined) + self.bc)\n",
        "\n",
        "\n",
        "        ct = ft * c_prev + it * c_tilde\n",
        "\n",
        "\n",
        "        ot = self.sigmoid(np.dot(self.Wo, combined) + self.bo)\n",
        "\n",
        "\n",
        "        ht = ot * np.tanh(ct)\n",
        "\n",
        "\n",
        "        print(f\"Forget Gate (ft): {ft.round(4)}\")\n",
        "        print(f\"Input Gate (it): {it.round(4)}\")\n",
        "        print(f\"Candidate Cell State (c~t): {c_tilde.round(4)}\")\n",
        "        print(f\"Cell State (ct): {ct.round(4)}\")\n",
        "        print(f\"Output Gate (ot): {ot.round(4)}\")\n",
        "        print(f\"Hidden State (ht): {ht.round(4)}\\n\")\n",
        "\n",
        "        return ht, ct\n",
        "\n",
        "    def sigmoid(self, x):\n",
        "        return 1 / (1 + np.exp(-x))\n",
        "\n",
        "input_dim = 1\n",
        "hidden_dim = 1\n",
        "lstm = LSTM(input_dim, hidden_dim)\n",
        "\n",
        "x_t = np.array([[1.0]])\n",
        "h_prev = np.array([[0.0]])\n",
        "c_prev = np.array([[0.0]])\n",
        "\n",
        "\n",
        "h_next, c_next = lstm.forward(x_t, h_prev, c_prev)\n",
        "\n",
        "Wy = np.array([[1.2]])\n",
        "by = np.array([[0.5]])\n",
        "\n",
        "y_pred = np.dot(Wy, h_next) + by\n",
        "\n",
        "print(\"Next Hidden State:\\n\", h_next)\n",
        "print(\"Next Cell State:\\n\", c_next)\n",
        "print(\"Predicted Output:\\n\", y_pred)"
      ],
      "metadata": {
        "colab": {
          "base_uri": "https://localhost:8080/"
        },
        "id": "4MKnwlFIAS4b",
        "outputId": "32fa8f20-c0a1-4542-dd3e-829fe8cd9f01"
      },
      "execution_count": 4,
      "outputs": [
        {
          "output_type": "stream",
          "name": "stdout",
          "text": [
            "Forget Gate (ft): [[0.5498]]\n",
            "Input Gate (it): [[0.4256]]\n",
            "Candidate Cell State (c~t): [[-0.1974]]\n",
            "Cell State (ct): [[-0.084]]\n",
            "Output Gate (ot): [[0.5622]]\n",
            "Hidden State (ht): [[-0.0471]]\n",
            "\n",
            "Next Hidden State:\n",
            " [[-0.04710903]]\n",
            "Next Cell State:\n",
            " [[-0.08399454]]\n",
            "Predicted Output:\n",
            " [[0.44346917]]\n"
          ]
        }
      ]
    }
  ]
}